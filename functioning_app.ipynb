version https://git-lfs.github.com/spec/v1
oid sha256:41a6d4ec2ca2d3f82046ca82e8819ee0d816ef64d96eeb4660eb3acd9f77d9b5
size 16605708

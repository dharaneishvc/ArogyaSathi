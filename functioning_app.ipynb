version https://git-lfs.github.com/spec/v1
oid sha256:bac711edb36e0adfcf7e98ec8f477e9bd4e5bcb3b8b01426f68238bc01239059
size 16321545

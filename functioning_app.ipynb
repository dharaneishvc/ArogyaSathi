version https://git-lfs.github.com/spec/v1
oid sha256:923bb735f684a7810bdd3dcfd4104e9a22dad410b77be016705927e416db59ad
size 16384520
